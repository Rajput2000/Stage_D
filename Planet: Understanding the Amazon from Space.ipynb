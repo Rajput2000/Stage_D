{
 "cells": [
  {
   "cell_type": "code",
   "execution_count": 1,
   "id": "817ba67f",
   "metadata": {
    "execution": {
     "iopub.execute_input": "2022-09-16T05:17:58.804169Z",
     "iopub.status.busy": "2022-09-16T05:17:58.803722Z",
     "iopub.status.idle": "2022-09-16T05:18:05.635104Z",
     "shell.execute_reply": "2022-09-16T05:18:05.634043Z"
    },
    "papermill": {
     "duration": 6.84083,
     "end_time": "2022-09-16T05:18:05.638223",
     "exception": false,
     "start_time": "2022-09-16T05:17:58.797393",
     "status": "completed"
    },
    "tags": []
   },
   "outputs": [
    {
     "name": "stdout",
     "output_type": "stream",
     "text": [
      "done\n"
     ]
    }
   ],
   "source": [
    "import numpy as np\n",
    "import pandas as pd\n",
    "import pickle\n",
    "import logging\n",
    "import os\n",
    "import cv2, gc\n",
    "from tqdm import tqdm\n",
    "from tensorflow import keras\n",
    "from keras.preprocessing.image import ImageDataGenerator\n",
    "from tensorflow.keras.models import Sequential\n",
    "from keras.layers import Dense, Activation, Flatten, Dropout, BatchNormalization\n",
    "from keras.layers import Conv2D, MaxPooling2D\n",
    "from keras import regularizers\n",
    "from tensorflow.keras import optimizers\n",
    "import matplotlib.pyplot as plt\n",
    "from sklearn.preprocessing import MultiLabelBinarizer\n",
    "from keras.callbacks import EarlyStopping, ReduceLROnPlateau, ModelCheckpoint\n",
    "from keras.applications.vgg19 import VGG19\n",
    "from keras.applications.resnet import ResNet50\n",
    "from keras.models import Model\n",
    "from tensorflow.keras.optimizers import Adam\n",
    "from sklearn.metrics import fbeta_score\n",
    "from sklearn.model_selection import KFold\n",
    "from sklearn.utils import shuffle\n",
    "from tensorflow import keras\n",
    "from tensorflow.keras.utils import to_categorical\n",
    "\n",
    "import warnings\n",
    "warnings.filterwarnings('ignore')\n",
    "print('done')"
   ]
  },
  {
   "cell_type": "code",
   "execution_count": 2,
   "id": "635504b7",
   "metadata": {
    "execution": {
     "iopub.execute_input": "2022-09-16T05:18:05.648947Z",
     "iopub.status.busy": "2022-09-16T05:18:05.647731Z",
     "iopub.status.idle": "2022-09-16T05:18:05.653118Z",
     "shell.execute_reply": "2022-09-16T05:18:05.652071Z"
    },
    "papermill": {
     "duration": 0.012521,
     "end_time": "2022-09-16T05:18:05.655533",
     "exception": false,
     "start_time": "2022-09-16T05:18:05.643012",
     "status": "completed"
    },
    "tags": []
   },
   "outputs": [],
   "source": [
    "PROJECT_FOLDER = '/kaggle/input/planet-understanding-the-amazon-from-space'\n",
    "TRAIN_CSV_PATH = os.path.join(PROJECT_FOLDER, \"train_v2.csv/train_v2.csv\")\n",
    "TEST_CSV_PATH = os.path.join(PROJECT_FOLDER, 'sample_submission_v2.csv/sample_submission_v2.csv')"
   ]
  },
  {
   "cell_type": "code",
   "execution_count": 3,
   "id": "a50f537f",
   "metadata": {
    "execution": {
     "iopub.execute_input": "2022-09-16T05:18:05.663918Z",
     "iopub.status.busy": "2022-09-16T05:18:05.663652Z",
     "iopub.status.idle": "2022-09-16T05:18:05.778041Z",
     "shell.execute_reply": "2022-09-16T05:18:05.777113Z"
    },
    "papermill": {
     "duration": 0.121241,
     "end_time": "2022-09-16T05:18:05.780405",
     "exception": false,
     "start_time": "2022-09-16T05:18:05.659164",
     "status": "completed"
    },
    "tags": []
   },
   "outputs": [],
   "source": [
    "train_df = pd.read_csv(TRAIN_CSV_PATH, dtype=str)\n",
    "test_df = pd.read_csv(TEST_CSV_PATH, dtype=str)"
   ]
  },
  {
   "cell_type": "code",
   "execution_count": 4,
   "id": "2ab97a35",
   "metadata": {
    "execution": {
     "iopub.execute_input": "2022-09-16T05:18:05.790345Z",
     "iopub.status.busy": "2022-09-16T05:18:05.788970Z",
     "iopub.status.idle": "2022-09-16T05:18:05.865264Z",
     "shell.execute_reply": "2022-09-16T05:18:05.864357Z"
    },
    "papermill": {
     "duration": 0.08301,
     "end_time": "2022-09-16T05:18:05.867390",
     "exception": false,
     "start_time": "2022-09-16T05:18:05.784380",
     "status": "completed"
    },
    "tags": []
   },
   "outputs": [],
   "source": [
    "trad_sample_df = test_df[test_df.image_name.str.contains('file_')].copy()\n",
    "sample_submission = test_df[test_df.image_name.str.contains('test_')]\n",
    "trad_sample_df['image_name'] = trad_sample_df[\"image_name\"].apply(lambda fn: fn+\".jpg\")\n",
    "sample_submission['image_name'] = sample_submission[\"image_name\"].apply(lambda fn: fn+\".jpg\")"
   ]
  },
  {
   "cell_type": "code",
   "execution_count": 5,
   "id": "0749fb01",
   "metadata": {
    "execution": {
     "iopub.execute_input": "2022-09-16T05:18:05.876135Z",
     "iopub.status.busy": "2022-09-16T05:18:05.875828Z",
     "iopub.status.idle": "2022-09-16T05:18:06.812561Z",
     "shell.execute_reply": "2022-09-16T05:18:06.811531Z"
    },
    "papermill": {
     "duration": 0.944101,
     "end_time": "2022-09-16T05:18:06.815338",
     "exception": false,
     "start_time": "2022-09-16T05:18:05.871237",
     "status": "completed"
    },
    "tags": []
   },
   "outputs": [],
   "source": [
    "s = train_df.tags.str.split(' ').explode()\n",
    "lb = MultiLabelBinarizer()\n",
    "encoded = lb.fit_transform(s.values[:, None])\n",
    "one_hot_df = pd.DataFrame(encoded.tolist(), columns=np.ravel(lb.classes_), dtype='int') \\\n",
    "                .groupby(s.index) \\\n",
    "                .sum()\n",
    "one_hot_df['image_name'] = train_df[\"image_name\"].apply(lambda fn: fn+\".jpg\")\n",
    "cols = ['image_name'] + list(np.ravel(lb.classes_))\n",
    "train_class = one_hot_df[cols].copy()\n",
    "del one_hot_df, s, encoded, lb"
   ]
  },
  {
   "cell_type": "code",
   "execution_count": 6,
   "id": "8b91bc6f",
   "metadata": {
    "execution": {
     "iopub.execute_input": "2022-09-16T05:18:06.825532Z",
     "iopub.status.busy": "2022-09-16T05:18:06.825224Z",
     "iopub.status.idle": "2022-09-16T05:18:06.831695Z",
     "shell.execute_reply": "2022-09-16T05:18:06.830779Z"
    },
    "papermill": {
     "duration": 0.014133,
     "end_time": "2022-09-16T05:18:06.834000",
     "exception": false,
     "start_time": "2022-09-16T05:18:06.819867",
     "status": "completed"
    },
    "tags": []
   },
   "outputs": [],
   "source": [
    "datagen = ImageDataGenerator(horizontal_flip=True, vertical_flip=True,\n",
    "                             zoom_range=0.5, rotation_range=50,\n",
    "                             rescale=1./255., validation_split = 0.25)"
   ]
  },
  {
   "cell_type": "code",
   "execution_count": 7,
   "id": "b8e77981",
   "metadata": {
    "execution": {
     "iopub.execute_input": "2022-09-16T05:18:06.843617Z",
     "iopub.status.busy": "2022-09-16T05:18:06.843312Z",
     "iopub.status.idle": "2022-09-16T05:18:06.852250Z",
     "shell.execute_reply": "2022-09-16T05:18:06.851218Z"
    },
    "papermill": {
     "duration": 0.016574,
     "end_time": "2022-09-16T05:18:06.854773",
     "exception": false,
     "start_time": "2022-09-16T05:18:06.838199",
     "status": "completed"
    },
    "tags": []
   },
   "outputs": [
    {
     "data": {
      "text/plain": [
       "(40479, 18)"
      ]
     },
     "execution_count": 7,
     "metadata": {},
     "output_type": "execute_result"
    }
   ],
   "source": [
    "train_class.shape"
   ]
  },
  {
   "cell_type": "code",
   "execution_count": 8,
   "id": "eb61084f",
   "metadata": {
    "execution": {
     "iopub.execute_input": "2022-09-16T05:18:06.865124Z",
     "iopub.status.busy": "2022-09-16T05:18:06.864481Z",
     "iopub.status.idle": "2022-09-16T05:19:41.063645Z",
     "shell.execute_reply": "2022-09-16T05:19:41.062210Z"
    },
    "papermill": {
     "duration": 94.20665,
     "end_time": "2022-09-16T05:19:41.065948",
     "exception": false,
     "start_time": "2022-09-16T05:18:06.859298",
     "status": "completed"
    },
    "tags": []
   },
   "outputs": [
    {
     "name": "stdout",
     "output_type": "stream",
     "text": [
      "Found 30360 validated image filenames.\n",
      "Found 10119 validated image filenames.\n"
     ]
    }
   ],
   "source": [
    "train_generator = datagen.flow_from_dataframe(\n",
    "    dataframe = train_class,\n",
    "    directory = '../input/train-jpg/train-jpg',\n",
    "    x_col = 'image_name',\n",
    "    y_col = cols[1:],\n",
    "    subset = 'training',\n",
    "    batch_size = 340,\n",
    "    seed = 42,\n",
    "    shuffle = True,\n",
    "    class_mode = 'raw',\n",
    "    target_size = (128, 128))\n",
    "\n",
    "valid_generator = datagen.flow_from_dataframe(\n",
    "    dataframe = train_class,\n",
    "    directory = '../input/train-jpg/train-jpg',\n",
    "    x_col = 'image_name',\n",
    "    y_col = cols[1:],\n",
    "    subset = 'validation',\n",
    "    batch_size = 340,\n",
    "    seed = 42,\n",
    "    shuffle = True,\n",
    "    class_mode = 'raw',\n",
    "    target_size = (128, 128))"
   ]
  },
  {
   "cell_type": "code",
   "execution_count": 9,
   "id": "f363bed0",
   "metadata": {
    "execution": {
     "iopub.execute_input": "2022-09-16T05:19:41.076057Z",
     "iopub.status.busy": "2022-09-16T05:19:41.075153Z",
     "iopub.status.idle": "2022-09-16T05:19:41.084317Z",
     "shell.execute_reply": "2022-09-16T05:19:41.083434Z"
    },
    "papermill": {
     "duration": 0.016166,
     "end_time": "2022-09-16T05:19:41.086239",
     "exception": false,
     "start_time": "2022-09-16T05:19:41.070073",
     "status": "completed"
    },
    "tags": []
   },
   "outputs": [],
   "source": [
    "input_shape = (128, 128, 3)\n",
    "epoch = 20\n",
    "batch_size = 340\n",
    "\n",
    "def VGG19_Amazon_Model(input_shape=input_shape):\n",
    "    gc.collect()\n",
    "    base_model = VGG19(include_top=False, weights='imagenet',\n",
    "                           input_shape=input_shape)\n",
    "    model = Sequential()\n",
    "    model.add(BatchNormalization(input_shape=input_shape))\n",
    "    model.add(base_model)\n",
    "    model.add(Flatten())\n",
    "    model.add(Dense(17, activation='sigmoid'))\n",
    "    \n",
    "    return model\n",
    "\n",
    "def return_model_name(k):\n",
    "    return '/kaggle/working/model_'+str(k)+'.h5'\n",
    "\n",
    "def generate_original_format(df):\n",
    "    preds = []\n",
    "    for i in tqdm(range(df.shape[0]), miniters=1000):\n",
    "        a = df.iloc[[i]]\n",
    "        pred_tag=[]\n",
    "        for k in cols[1:]:\n",
    "            if(a[k][i] == 1):\n",
    "                pred_tag.append(k)\n",
    "        preds.append(' '.join(pred_tag))\n",
    "\n",
    "    df['tags'] = preds\n",
    "    df['image_name'] = df['image_name'].apply(lambda x: x.split('.')[0])\n",
    "    return df[['image_name', 'tags']]"
   ]
  },
  {
   "cell_type": "code",
   "execution_count": 10,
   "id": "4f1714f5",
   "metadata": {
    "execution": {
     "iopub.execute_input": "2022-09-16T05:19:41.096154Z",
     "iopub.status.busy": "2022-09-16T05:19:41.095490Z",
     "iopub.status.idle": "2022-09-16T06:26:50.362184Z",
     "shell.execute_reply": "2022-09-16T06:26:50.361208Z"
    },
    "papermill": {
     "duration": 4029.339731,
     "end_time": "2022-09-16T06:26:50.430050",
     "exception": false,
     "start_time": "2022-09-16T05:19:41.090319",
     "status": "completed"
    },
    "tags": []
   },
   "outputs": [
    {
     "name": "stderr",
     "output_type": "stream",
     "text": [
      "2022-09-16 05:19:41.497163: I tensorflow/stream_executor/cuda/cuda_gpu_executor.cc:937] successful NUMA node read from SysFS had negative value (-1), but there must be at least one NUMA node, so returning NUMA node zero\n",
      "2022-09-16 05:19:41.605499: I tensorflow/stream_executor/cuda/cuda_gpu_executor.cc:937] successful NUMA node read from SysFS had negative value (-1), but there must be at least one NUMA node, so returning NUMA node zero\n",
      "2022-09-16 05:19:41.606310: I tensorflow/stream_executor/cuda/cuda_gpu_executor.cc:937] successful NUMA node read from SysFS had negative value (-1), but there must be at least one NUMA node, so returning NUMA node zero\n",
      "2022-09-16 05:19:41.607530: I tensorflow/core/platform/cpu_feature_guard.cc:142] This TensorFlow binary is optimized with oneAPI Deep Neural Network Library (oneDNN) to use the following CPU instructions in performance-critical operations:  AVX2 AVX512F FMA\n",
      "To enable them in other operations, rebuild TensorFlow with the appropriate compiler flags.\n",
      "2022-09-16 05:19:41.607898: I tensorflow/stream_executor/cuda/cuda_gpu_executor.cc:937] successful NUMA node read from SysFS had negative value (-1), but there must be at least one NUMA node, so returning NUMA node zero\n",
      "2022-09-16 05:19:41.608764: I tensorflow/stream_executor/cuda/cuda_gpu_executor.cc:937] successful NUMA node read from SysFS had negative value (-1), but there must be at least one NUMA node, so returning NUMA node zero\n",
      "2022-09-16 05:19:41.609566: I tensorflow/stream_executor/cuda/cuda_gpu_executor.cc:937] successful NUMA node read from SysFS had negative value (-1), but there must be at least one NUMA node, so returning NUMA node zero\n",
      "2022-09-16 05:19:43.781302: I tensorflow/stream_executor/cuda/cuda_gpu_executor.cc:937] successful NUMA node read from SysFS had negative value (-1), but there must be at least one NUMA node, so returning NUMA node zero\n",
      "2022-09-16 05:19:43.782184: I tensorflow/stream_executor/cuda/cuda_gpu_executor.cc:937] successful NUMA node read from SysFS had negative value (-1), but there must be at least one NUMA node, so returning NUMA node zero\n",
      "2022-09-16 05:19:43.782867: I tensorflow/stream_executor/cuda/cuda_gpu_executor.cc:937] successful NUMA node read from SysFS had negative value (-1), but there must be at least one NUMA node, so returning NUMA node zero\n",
      "2022-09-16 05:19:43.783469: I tensorflow/core/common_runtime/gpu/gpu_device.cc:1510] Created device /job:localhost/replica:0/task:0/device:GPU:0 with 15401 MB memory:  -> device: 0, name: Tesla P100-PCIE-16GB, pci bus id: 0000:00:04.0, compute capability: 6.0\n"
     ]
    },
    {
     "name": "stdout",
     "output_type": "stream",
     "text": [
      "Downloading data from https://storage.googleapis.com/tensorflow/keras-applications/vgg19/vgg19_weights_tf_dim_ordering_tf_kernels_notop.h5\n",
      "80142336/80134624 [==============================] - 0s 0us/step\n",
      "80150528/80134624 [==============================] - 0s 0us/step\n"
     ]
    },
    {
     "name": "stderr",
     "output_type": "stream",
     "text": [
      "2022-09-16 05:19:47.865454: I tensorflow/compiler/mlir/mlir_graph_optimization_pass.cc:185] None of the MLIR Optimization Passes are enabled (registered 2)\n"
     ]
    },
    {
     "name": "stdout",
     "output_type": "stream",
     "text": [
      "Epoch 1/20\n"
     ]
    },
    {
     "name": "stderr",
     "output_type": "stream",
     "text": [
      "2022-09-16 05:19:52.879982: I tensorflow/stream_executor/cuda/cuda_dnn.cc:369] Loaded cuDNN version 8005\n"
     ]
    },
    {
     "name": "stdout",
     "output_type": "stream",
     "text": [
      "90/90 [==============================] - 439s 5s/step - loss: 0.1744 - accuracy: 0.0769 - val_loss: 0.2613 - val_accuracy: 0.0621\n",
      "\n",
      "Epoch 00001: val_accuracy improved from -inf to 0.06206, saving model to /kaggle/working/model_1.h5\n",
      "Epoch 2/20\n",
      "90/90 [==============================] - 268s 3s/step - loss: 0.1246 - accuracy: 0.1144 - val_loss: 0.1858 - val_accuracy: 0.0700\n",
      "\n",
      "Epoch 00002: val_accuracy improved from 0.06206 to 0.06997, saving model to /kaggle/working/model_1.h5\n",
      "Epoch 3/20\n",
      "90/90 [==============================] - 266s 3s/step - loss: 0.1149 - accuracy: 0.1163 - val_loss: 0.1360 - val_accuracy: 0.1018\n",
      "\n",
      "Epoch 00003: val_accuracy improved from 0.06997 to 0.10179, saving model to /kaggle/working/model_1.h5\n",
      "Epoch 4/20\n",
      "90/90 [==============================] - 265s 3s/step - loss: 0.1109 - accuracy: 0.1094 - val_loss: 0.1190 - val_accuracy: 0.1130\n",
      "\n",
      "Epoch 00004: val_accuracy improved from 0.10179 to 0.11296, saving model to /kaggle/working/model_1.h5\n",
      "Epoch 5/20\n",
      "90/90 [==============================] - 265s 3s/step - loss: 0.1087 - accuracy: 0.1131 - val_loss: 0.1167 - val_accuracy: 0.1073\n",
      "\n",
      "Epoch 00005: val_accuracy did not improve from 0.11296\n",
      "Epoch 6/20\n",
      "90/90 [==============================] - 266s 3s/step - loss: 0.1060 - accuracy: 0.1112 - val_loss: 0.1039 - val_accuracy: 0.0960\n",
      "\n",
      "Epoch 00006: val_accuracy did not improve from 0.11296\n",
      "Epoch 7/20\n",
      "90/90 [==============================] - 266s 3s/step - loss: 0.1051 - accuracy: 0.1127 - val_loss: 0.1045 - val_accuracy: 0.1380\n",
      "\n",
      "Epoch 00007: val_accuracy improved from 0.11296 to 0.13796, saving model to /kaggle/working/model_1.h5\n",
      "Epoch 8/20\n",
      "90/90 [==============================] - 266s 3s/step - loss: 0.1022 - accuracy: 0.1160 - val_loss: 0.1032 - val_accuracy: 0.1263\n",
      "\n",
      "Epoch 00008: val_accuracy did not improve from 0.13796\n",
      "Epoch 9/20\n",
      "90/90 [==============================] - 266s 3s/step - loss: 0.1015 - accuracy: 0.1161 - val_loss: 0.1013 - val_accuracy: 0.1420\n",
      "\n",
      "Epoch 00009: val_accuracy improved from 0.13796 to 0.14201, saving model to /kaggle/working/model_1.h5\n",
      "Epoch 10/20\n",
      "90/90 [==============================] - 266s 3s/step - loss: 0.1007 - accuracy: 0.1085 - val_loss: 0.1011 - val_accuracy: 0.1313\n",
      "\n",
      "Epoch 00010: val_accuracy did not improve from 0.14201\n",
      "Epoch 11/20\n",
      "90/90 [==============================] - 265s 3s/step - loss: 0.1000 - accuracy: 0.1125 - val_loss: 0.1003 - val_accuracy: 0.0973\n",
      "\n",
      "Epoch 00011: val_accuracy did not improve from 0.14201\n",
      "Epoch 12/20\n",
      "90/90 [==============================] - 265s 3s/step - loss: 0.0991 - accuracy: 0.1148 - val_loss: 0.1001 - val_accuracy: 0.1160\n",
      "\n",
      "Epoch 00012: val_accuracy did not improve from 0.14201\n",
      "Epoch 13/20\n",
      "90/90 [==============================] - 266s 3s/step - loss: 0.0968 - accuracy: 0.1135 - val_loss: 0.0998 - val_accuracy: 0.1135\n",
      "\n",
      "Epoch 00013: val_accuracy did not improve from 0.14201\n",
      "Epoch 00013: early stopping\n"
     ]
    }
   ],
   "source": [
    "gc.collect()\n",
    "model = VGG19_Amazon_Model()\n",
    "STEP_SIZE_TRAIN = train_generator.n//train_generator.batch_size\n",
    "STEP_SIZE_VAL = valid_generator.n//valid_generator.batch_size\n",
    "        \n",
    "opt = Adam(lr=0.0001)\n",
    "model.compile(optimizer=opt, loss='binary_crossentropy', metrics=['accuracy'])\n",
    "\n",
    "callback = [EarlyStopping(monitor='val_accuracy', patience=4, verbose=1),\n",
    "                    ReduceLROnPlateau(monitor='val_loss', factor=0.1, patience=2,\n",
    "                                   cooldown=2, verbose=1),\n",
    "                    ModelCheckpoint(return_model_name(1), monitor='val_accuracy', \n",
    "                                    verbose=1, save_best_only=True, mode='max')]\n",
    "history = model.fit_generator(train_generator, \n",
    "                                      validation_data=valid_generator,\n",
    "                                      callbacks=callback, verbose=1, epochs=epoch) \n",
    "        "
   ]
  },
  {
   "cell_type": "code",
   "execution_count": 11,
   "id": "25da047b",
   "metadata": {
    "execution": {
     "iopub.execute_input": "2022-09-16T06:26:50.561119Z",
     "iopub.status.busy": "2022-09-16T06:26:50.560183Z",
     "iopub.status.idle": "2022-09-16T06:27:53.521717Z",
     "shell.execute_reply": "2022-09-16T06:27:53.520748Z"
    },
    "papermill": {
     "duration": 63.02997,
     "end_time": "2022-09-16T06:27:53.523886",
     "exception": false,
     "start_time": "2022-09-16T06:26:50.493916",
     "status": "completed"
    },
    "tags": []
   },
   "outputs": [
    {
     "name": "stdout",
     "output_type": "stream",
     "text": [
      "30/30 [==============================] - 60s 2s/step\n"
     ]
    }
   ],
   "source": [
    "model = VGG19_Amazon_Model()\n",
    "full_test = []\n",
    "\n",
    "model.load_weights(filepath=return_model_name(1))\n",
    "p_test = model.predict_generator(valid_generator, verbose=1)\n",
    "full_test.append(p_test)\n",
    "    \n",
    "result = np.array(full_test[0])\n",
    "    \n",
    "result_bool = (result > 0.18).astype(int)\n",
    "preds = np.argmax(result_bool, axis=1)\n",
    "vals = np.argmax(valid_generator.labels, axis=1)"
   ]
  },
  {
   "cell_type": "code",
   "execution_count": 12,
   "id": "a11d43dd",
   "metadata": {
    "execution": {
     "iopub.execute_input": "2022-09-16T06:27:53.657714Z",
     "iopub.status.busy": "2022-09-16T06:27:53.657384Z",
     "iopub.status.idle": "2022-09-16T06:27:53.663026Z",
     "shell.execute_reply": "2022-09-16T06:27:53.662001Z"
    },
    "papermill": {
     "duration": 0.075211,
     "end_time": "2022-09-16T06:27:53.665106",
     "exception": false,
     "start_time": "2022-09-16T06:27:53.589895",
     "status": "completed"
    },
    "tags": []
   },
   "outputs": [],
   "source": [
    "def predict_model(data):\n",
    "    model = VGG19_Amazon_Model()\n",
    "    full_test = []\n",
    "\n",
    "    model.load_weights(filepath=return_model_name(1))\n",
    "    p_test = model.predict_generator(data, verbose=1)\n",
    "    full_test.append(p_test)\n",
    "        \n",
    "    result = np.array(full_test[0])\n",
    "    \n",
    "    result_bool = (result > 0.18).astype(int)\n",
    "    return result_bool"
   ]
  },
  {
   "cell_type": "code",
   "execution_count": 13,
   "id": "c1869b8f",
   "metadata": {
    "execution": {
     "iopub.execute_input": "2022-09-16T06:27:53.798899Z",
     "iopub.status.busy": "2022-09-16T06:27:53.797985Z",
     "iopub.status.idle": "2022-09-16T06:27:53.809699Z",
     "shell.execute_reply": "2022-09-16T06:27:53.808043Z"
    },
    "papermill": {
     "duration": 0.084485,
     "end_time": "2022-09-16T06:27:53.814829",
     "exception": false,
     "start_time": "2022-09-16T06:27:53.730344",
     "status": "completed"
    },
    "tags": []
   },
   "outputs": [
    {
     "name": "stdout",
     "output_type": "stream",
     "text": [
      "F2 = 0.32443917383140625\n"
     ]
    }
   ],
   "source": [
    "print('F2 = {}'.format(fbeta_score(vals, preds, beta=2, average='micro')))"
   ]
  },
  {
   "cell_type": "code",
   "execution_count": 14,
   "id": "7dd11ec8",
   "metadata": {
    "execution": {
     "iopub.execute_input": "2022-09-16T06:27:53.957251Z",
     "iopub.status.busy": "2022-09-16T06:27:53.956865Z",
     "iopub.status.idle": "2022-09-16T06:34:13.725798Z",
     "shell.execute_reply": "2022-09-16T06:34:13.724095Z"
    },
    "papermill": {
     "duration": 379.839629,
     "end_time": "2022-09-16T06:34:13.727980",
     "exception": false,
     "start_time": "2022-09-16T06:27:53.888351",
     "status": "completed"
    },
    "tags": []
   },
   "outputs": [
    {
     "name": "stdout",
     "output_type": "stream",
     "text": [
      "Found 40669 validated image filenames.\n",
      "120/120 [==============================] - 267s 2s/step\n"
     ]
    },
    {
     "name": "stderr",
     "output_type": "stream",
     "text": [
      "100%|██████████| 40669/40669 [00:33<00:00, 1227.90it/s]\n"
     ]
    }
   ],
   "source": [
    "test_datagen=ImageDataGenerator(rescale=1./255.)\n",
    "test_generator = test_datagen.flow_from_dataframe(\n",
    "    dataframe = sample_submission,\n",
    "    directory = '../input/testjpg/test-jpg',\n",
    "    x_col = 'image_name',\n",
    "    y_col = None,\n",
    "    batch_size = 340,\n",
    "    seed = 42,\n",
    "    shuffle = False,\n",
    "    class_mode = None,\n",
    "    target_size = (128, 128))\n",
    "\n",
    "result1 = predict_model(test_generator)\n",
    "result1 = pd.DataFrame(result1, columns=cols[1:])\n",
    "result1[\"image_name\"]=test_generator.filenames\n",
    "result1 = generate_original_format(result1.copy())"
   ]
  },
  {
   "cell_type": "code",
   "execution_count": 15,
   "id": "d6a11f68",
   "metadata": {
    "execution": {
     "iopub.execute_input": "2022-09-16T06:34:13.898732Z",
     "iopub.status.busy": "2022-09-16T06:34:13.898088Z",
     "iopub.status.idle": "2022-09-16T06:37:26.073284Z",
     "shell.execute_reply": "2022-09-16T06:37:26.071331Z"
    },
    "papermill": {
     "duration": 192.267004,
     "end_time": "2022-09-16T06:37:26.075318",
     "exception": false,
     "start_time": "2022-09-16T06:34:13.808314",
     "status": "completed"
    },
    "tags": []
   },
   "outputs": [
    {
     "name": "stdout",
     "output_type": "stream",
     "text": [
      "Found 20522 validated image filenames.\n",
      "61/61 [==============================] - 135s 2s/step\n"
     ]
    },
    {
     "name": "stderr",
     "output_type": "stream",
     "text": [
      "100%|██████████| 20522/20522 [00:16<00:00, 1252.99it/s]\n"
     ]
    }
   ],
   "source": [
    "test_generator2 = test_datagen.flow_from_dataframe(\n",
    "    dataframe = trad_sample_df,\n",
    "    directory = '../input/testjpg/-additional/test-jpg-additional',\n",
    "    x_col = 'image_name',\n",
    "    y_col = None,\n",
    "    batch_size = 340,\n",
    "    seed = 42,\n",
    "    shuffle = False,\n",
    "    class_mode = None,\n",
    "    target_size = (128, 128))\n",
    "result2 = predict_model(test_generator2)\n",
    "result2 = pd.DataFrame(result2, columns=cols[1:])\n",
    "result2[\"image_name\"]=test_generator2.filenames\n",
    "result2 = generate_original_format(result2.copy())"
   ]
  },
  {
   "cell_type": "code",
   "execution_count": 16,
   "id": "ba7c3c12",
   "metadata": {
    "execution": {
     "iopub.execute_input": "2022-09-16T06:37:26.240440Z",
     "iopub.status.busy": "2022-09-16T06:37:26.240051Z",
     "iopub.status.idle": "2022-09-16T06:37:26.332985Z",
     "shell.execute_reply": "2022-09-16T06:37:26.332030Z"
    },
    "papermill": {
     "duration": 0.177803,
     "end_time": "2022-09-16T06:37:26.335208",
     "exception": false,
     "start_time": "2022-09-16T06:37:26.157405",
     "status": "completed"
    },
    "tags": []
   },
   "outputs": [],
   "source": [
    "final_results = result1.append(result2, ignore_index=True)\n",
    "final_results.to_csv(\"submission.csv\", index=False)"
   ]
  }
 ],
 "metadata": {
  "kernelspec": {
   "display_name": "Python 3",
   "language": "python",
   "name": "python3"
  },
  "language_info": {
   "codemirror_mode": {
    "name": "ipython",
    "version": 3
   },
   "file_extension": ".py",
   "mimetype": "text/x-python",
   "name": "python",
   "nbconvert_exporter": "python",
   "pygments_lexer": "ipython3",
   "version": "3.7.12"
  },
  "papermill": {
   "default_parameters": {},
   "duration": 4778.426547,
   "end_time": "2022-09-16T06:37:29.181335",
   "environment_variables": {},
   "exception": null,
   "input_path": "__notebook__.ipynb",
   "output_path": "__notebook__.ipynb",
   "parameters": {},
   "start_time": "2022-09-16T05:17:50.754788",
   "version": "2.3.4"
  }
 },
 "nbformat": 4,
 "nbformat_minor": 5
}
